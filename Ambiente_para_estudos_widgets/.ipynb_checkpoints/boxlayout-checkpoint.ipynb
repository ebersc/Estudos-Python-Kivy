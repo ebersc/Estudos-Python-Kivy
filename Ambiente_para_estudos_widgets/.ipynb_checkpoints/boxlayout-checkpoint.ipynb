{
 "cells": [
  {
   "cell_type": "code",
   "execution_count": 1,
   "metadata": {},
   "outputs": [
    {
     "name": "stderr",
     "output_type": "stream",
     "text": [
      "[INFO   ] [Logger      ] Record log in /home/local/IDEALINVEST/eberson.cosme/.kivy/logs/kivy_19-06-11_0.txt\n",
      "[INFO   ] [Kivy        ] v1.10.1\n",
      "[INFO   ] [Python      ] v3.5.3 (default, Sep 27 2018, 17:25:39) \n",
      "[GCC 6.3.0 20170516]\n",
      "[INFO   ] [Factory     ] 194 symbols loaded\n",
      "[INFO   ] [Image       ] Providers: img_tex, img_dds, img_sdl2, img_gif (img_pil, img_ffpyplayer ignored)\n",
      "[INFO   ] [Text        ] Provider: sdl2\n",
      "[WARNING] Call to deprecated function __init__ in /home/local/IDEALINVEST/eberson.cosme/estudos/Estudos Python Kivy/py353/lib/python3.5/site-packages/kivy/interactive.py line 308.Called from <ipython-input-2-1ca07bd555f2> line 5 by <module>().\n",
      "[INFO   ] [Window      ] Provider: sdl2(['window_egl_rpi'] ignored)\n",
      "[INFO   ] [GL          ] Using the \"OpenGL\" graphics system\n",
      "[INFO   ] [GL          ] Backend used <gl>\n",
      "[INFO   ] [GL          ] OpenGL version <b'3.0 Mesa 13.0.6'>\n",
      "[INFO   ] [GL          ] OpenGL vendor <b'Intel Open Source Technology Center'>\n",
      "[INFO   ] [GL          ] OpenGL renderer <b'Mesa DRI Intel(R) HD Graphics 620 (Kabylake GT2) '>\n",
      "[INFO   ] [GL          ] OpenGL parsed version: 3, 0\n",
      "[INFO   ] [GL          ] Shading version <b'1.30'>\n",
      "[INFO   ] [GL          ] Texture max size <8192>\n",
      "[INFO   ] [GL          ] Texture max units <32>\n",
      "[INFO   ] [Window      ] auto add sdl2 input provider\n",
      "[INFO   ] [Window      ] virtual keyboard not allowed, single mode, not docked\n",
      "[INFO   ] [ProbeSysfs  ] device match: /dev/input/event15\n",
      "[INFO   ] [MTD         ] Read event from </dev/input/event15>\n",
      "[INFO   ] [Base        ] Start application main loop\n",
      "[WARNING] [MTD         ] Unable to open device \"/dev/input/event15\". Please ensure you have the appropriate permissions.\n",
      "[INFO   ] [GL          ] NPOT texture support is available\n"
     ]
    }
   ],
   "source": [
    "#coding: utf-8\n",
    "#author: Eberson\n",
    "\n",
    "from kivy.app import App\n",
    "from kivy.uix.button import Button\n",
    "from kivy.interactive import InteractiveLauncher\n",
    "from kivy.lang import Builder\n",
    "\n",
    "#força a aplicação a não iniciar em tela cheia\n",
    "from kivy.config import Config\n",
    "Config.set(\"graphics\", \"fullscreen\", \"0\")\n",
    "\n",
    "janela = None\n",
    "glayout = None"
   ]
  },
  {
   "cell_type": "code",
   "execution_count": 2,
   "metadata": {},
   "outputs": [],
   "source": [
    "class JanelaApp(App):\n",
    "    pass\n",
    "\n",
    "janela = JanelaApp()\n",
    "ji = InteractiveLauncher( janela )\n",
    "ji.run()"
   ]
  },
  {
   "cell_type": "code",
   "execution_count": 183,
   "metadata": {},
   "outputs": [],
   "source": [
    "kvcode = \"\"\"\n",
    "\n",
    "BoxLayout:\n",
    "    orientation: \"vertical\"\n",
    "    padding: 20\n",
    "    spacing: 50\n",
    "    Button:\n",
    "        size_hint: 1., .5\n",
    "        text: \"A\"\n",
    "    Button:\n",
    "        size_hint: 1., 1.\n",
    "        text: \"B\"\n",
    "    Button:\n",
    "        size_hint: 1., 1.\n",
    "        text: \"C\"\n",
    "\"\"\"\n",
    "\n",
    "if(janela.root):\n",
    "    janela.root_window.remove_widget( janela.root )\n",
    "    janela.root = None\n",
    "    glayout = None\n",
    "\n",
    "janela.root = glayout = Builder.load_string( kvcode )\n",
    "janela.root_window.add_widget( glayout )"
   ]
  },
  {
   "cell_type": "code",
   "execution_count": 18,
   "metadata": {},
   "outputs": [],
   "source": [
    "glayout.add_widget(Button(text=\"X\", size_hint=(1., 1.)))"
   ]
  },
  {
   "cell_type": "code",
   "execution_count": 181,
   "metadata": {},
   "outputs": [],
   "source": [
    "if (glayout.orientation == \"vertical\"):\n",
    "    glayout.orientation = \"horizontal\"\n",
    "else:\n",
    "    glayout.orientation = \"vertical\""
   ]
  },
  {
   "cell_type": "code",
   "execution_count": null,
   "metadata": {},
   "outputs": [],
   "source": []
  }
 ],
 "metadata": {
  "kernelspec": {
   "display_name": "Python 3",
   "language": "python",
   "name": "python3"
  },
  "language_info": {
   "codemirror_mode": {
    "name": "ipython",
    "version": 3
   },
   "file_extension": ".py",
   "mimetype": "text/x-python",
   "name": "python",
   "nbconvert_exporter": "python",
   "pygments_lexer": "ipython3",
   "version": "3.5.3"
  }
 },
 "nbformat": 4,
 "nbformat_minor": 2
}
